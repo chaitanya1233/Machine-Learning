{
 "cells": [
  {
   "cell_type": "markdown",
   "id": "27f7a3e0-d756-45c8-8781-e689cfec2d75",
   "metadata": {},
   "source": [
    "**Encoading techniques**"
   ]
  },
  {
   "cell_type": "raw",
   "id": "6e37ed9f-e0f8-4713-900d-68761a16e5c6",
   "metadata": {},
   "source": [
    "1 Label Encoading\n",
    "2 One hot encoding"
   ]
  },
  {
   "cell_type": "markdown",
   "id": "b39dcab0-8604-4e3a-a688-d5d7332d81b1",
   "metadata": {},
   "source": [
    "**1 Label Encoading**"
   ]
  },
  {
   "cell_type": "code",
   "execution_count": 3,
   "id": "3703b88c-5b29-4421-99ff-2b4b5cabbea1",
   "metadata": {},
   "outputs": [],
   "source": [
    "# Import the libraies \n",
    "import pandas as pd\n",
    "import numpy as np"
   ]
  },
  {
   "cell_type": "code",
   "execution_count": 10,
   "id": "30a374d4-2fd9-4482-908f-796b3b6fb13e",
   "metadata": {},
   "outputs": [],
   "source": [
    "data = {'color':['Red','Green','Blue'],'RGB_value':[30,89,48],'Damage_calues':['No','Yes','No']}"
   ]
  },
  {
   "cell_type": "code",
   "execution_count": 18,
   "id": "cf1943db-57cb-4af1-b8a0-3d5dfd0e93e4",
   "metadata": {},
   "outputs": [],
   "source": [
    "# import the dataset and feature scaling\n",
    "dataset = pd.DataFrame(data)\n",
    "x = dataset.iloc[:,:2].values\n",
    "y = dataset.iloc[:,-1].values"
   ]
  },
  {
   "cell_type": "code",
   "execution_count": 19,
   "id": "d66c55b5-23f0-4076-95bb-2d02b10f6b60",
   "metadata": {},
   "outputs": [
    {
     "name": "stdout",
     "output_type": "stream",
     "text": [
      "[['Red' 30]\n",
      " ['Green' 89]\n",
      " ['Blue' 48]]\n"
     ]
    }
   ],
   "source": [
    "print(x)"
   ]
  },
  {
   "cell_type": "code",
   "execution_count": 20,
   "id": "2136a0ab-55d9-470b-9312-100f216c4ccd",
   "metadata": {},
   "outputs": [
    {
     "name": "stdout",
     "output_type": "stream",
     "text": [
      "['No' 'Yes' 'No']\n"
     ]
    }
   ],
   "source": [
    "print(y)"
   ]
  },
  {
   "cell_type": "code",
   "execution_count": 23,
   "id": "be153ec3-c99b-4131-a58a-fc11366291fd",
   "metadata": {},
   "outputs": [],
   "source": [
    "# Encoading the Independent Variable x \n",
    "from sklearn.compose import ColumnTransformer\n",
    "from sklearn.preprocessing import OneHotEncoder\n",
    "ct = ColumnTransformer(transformers =[('encoder',OneHotEncoder(),[0])],remainder ='passthrough')\n",
    "x =np.array(ct.fit_transform(x))"
   ]
  },
  {
   "cell_type": "code",
   "execution_count": 24,
   "id": "943ba119-804b-4611-af09-ea608d6619c8",
   "metadata": {},
   "outputs": [
    {
     "name": "stdout",
     "output_type": "stream",
     "text": [
      "[[0.0 0.0 1.0 30]\n",
      " [0.0 1.0 0.0 89]\n",
      " [1.0 0.0 0.0 48]]\n"
     ]
    }
   ],
   "source": [
    "print(x)"
   ]
  },
  {
   "cell_type": "markdown",
   "id": "761ef051-9c48-4f6f-b824-d3d4b3185ae6",
   "metadata": {},
   "source": [
    "**Red is encoded as [0  0 1] ,, \n",
    "Green is encoded as [0 1 0]] ,, \n",
    "Blue is encoded as [1 0 0]**"
   ]
  },
  {
   "cell_type": "code",
   "execution_count": 25,
   "id": "02d937a1-0105-4965-99b1-118f6aaaea45",
   "metadata": {},
   "outputs": [],
   "source": [
    "# Encoading the dependent variable y \n",
    "from sklearn.preprocessing import LabelEncoder\n",
    "le = LabelEncoder()\n",
    "y = le.fit_transform(y)"
   ]
  },
  {
   "cell_type": "code",
   "execution_count": 26,
   "id": "6ff1a8c4-06fd-4540-be4a-6b83209b8b8e",
   "metadata": {},
   "outputs": [
    {
     "name": "stdout",
     "output_type": "stream",
     "text": [
      "[0 1 0]\n"
     ]
    }
   ],
   "source": [
    "print(y)"
   ]
  },
  {
   "cell_type": "markdown",
   "id": "e9c948c4-80c3-4a7b-91f4-bc0407359177",
   "metadata": {},
   "source": [
    "**Yes is encoded as 1 and  \n",
    "No is encoded as 0**"
   ]
  },
  {
   "cell_type": "code",
   "execution_count": null,
   "id": "057d5175-89c9-43f5-88cc-cb1fa2b075c4",
   "metadata": {},
   "outputs": [],
   "source": []
  }
 ],
 "metadata": {
  "kernelspec": {
   "display_name": "Python 3 (ipykernel)",
   "language": "python",
   "name": "python3"
  },
  "language_info": {
   "codemirror_mode": {
    "name": "ipython",
    "version": 3
   },
   "file_extension": ".py",
   "mimetype": "text/x-python",
   "name": "python",
   "nbconvert_exporter": "python",
   "pygments_lexer": "ipython3",
   "version": "3.13.0"
  }
 },
 "nbformat": 4,
 "nbformat_minor": 5
}
