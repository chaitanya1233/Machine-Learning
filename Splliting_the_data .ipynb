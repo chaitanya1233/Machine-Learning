{
 "cells": [
  {
   "cell_type": "markdown",
   "id": "eabec281-ecac-43c9-a114-d886121412ed",
   "metadata": {},
   "source": [
    "**Datapreprocessing method**\n"
   ]
  },
  {
   "cell_type": "markdown",
   "id": "d5a77a56-5d2b-46bf-9675-e69cff3084f4",
   "metadata": {},
   "source": [
    "**1 . Import the libraies** \n",
    "\n",
    "**2 . Import the dataset** \n",
    "\n",
    "**3 . Cleaing the data = SimpleImputer class from impute module preset in sklearn** \n",
    "\n",
    "**4. Encoding the Independen tvariable(x) = 1. ColumnTransformer form compose module in sklearn \n",
    "                                          2 . OneHotEncoder from preprocessing module in sklearn**  \n",
    "                                          \n",
    "**5 . Encoding dependent variable (y) = LabelEncoder class from preprocessing module present in the sklearn** \n",
    "\n",
    "**6 . Splliting the dataset into training and testing data => train_test_split class from model_selection module present in sklearn** \n",
    "\n",
    "**7 . Feature scallig => StandardScaler class from preprocessing module present in sklearn**"
   ]
  },
  {
   "cell_type": "markdown",
   "id": "220c1636-5cf2-48cc-b1bc-f1e3d011e335",
   "metadata": {},
   "source": [
    "Following are the steps in doing the datapreprocessing"
   ]
  },
  {
   "cell_type": "code",
   "execution_count": 1,
   "id": "1c721e2b-c1db-41ef-84c7-31276f1c83eb",
   "metadata": {},
   "outputs": [],
   "source": [
    "# Import the libraries \n",
    "import pandas as pd \n",
    "import numpy as np"
   ]
  },
  {
   "cell_type": "code",
   "execution_count": 2,
   "id": "1f77d36a-a568-4b57-be75-3fa26839b833",
   "metadata": {},
   "outputs": [],
   "source": [
    "# Import the dataset\n",
    "dataset = pd.read_csv('Data.csv')\n",
    "x = dataset.iloc[:,:-1].values\n",
    "y = dataset.iloc[:,-1].values"
   ]
  },
  {
   "cell_type": "code",
   "execution_count": 3,
   "id": "16fb7520-df6f-4b07-8999-4bd1e245f3a1",
   "metadata": {},
   "outputs": [
    {
     "name": "stdout",
     "output_type": "stream",
     "text": [
      "[['France' 44.0 72000.0]\n",
      " ['Spain' 27.0 48000.0]\n",
      " ['Germany' 30.0 54000.0]\n",
      " ['Spain' 38.0 61000.0]\n",
      " ['Germany' 40.0 nan]\n",
      " ['France' 35.0 58000.0]\n",
      " ['Spain' nan 52000.0]\n",
      " ['France' 48.0 79000.0]\n",
      " ['Germany' 50.0 83000.0]\n",
      " ['France' 37.0 67000.0]]\n"
     ]
    }
   ],
   "source": [
    "print(x)"
   ]
  },
  {
   "cell_type": "code",
   "execution_count": 4,
   "id": "1f97c486-7037-4144-bdf9-6a025d6b0b80",
   "metadata": {},
   "outputs": [
    {
     "name": "stdout",
     "output_type": "stream",
     "text": [
      "['No' 'Yes' 'No' 'No' 'Yes' 'Yes' 'No' 'Yes' 'No' 'Yes']\n"
     ]
    }
   ],
   "source": [
    "print(y)"
   ]
  },
  {
   "cell_type": "code",
   "execution_count": 5,
   "id": "fa3564c9-c560-425e-8d88-5ff3e1331b1c",
   "metadata": {},
   "outputs": [],
   "source": [
    "# Taking care of missing values \n",
    "from sklearn.impute import SimpleImputer\n",
    "imputer = SimpleImputer(missing_values =np.nan,strategy ='mean')\n",
    "imputer.fit(x[:,1:])\n",
    "x[:,1:]=imputer.transform(x[:,1:])"
   ]
  },
  {
   "cell_type": "code",
   "execution_count": 6,
   "id": "8528209d-9fa2-43c2-94ad-13c6560e3677",
   "metadata": {},
   "outputs": [
    {
     "name": "stdout",
     "output_type": "stream",
     "text": [
      "[['France' 44.0 72000.0]\n",
      " ['Spain' 27.0 48000.0]\n",
      " ['Germany' 30.0 54000.0]\n",
      " ['Spain' 38.0 61000.0]\n",
      " ['Germany' 40.0 63777.77777777778]\n",
      " ['France' 35.0 58000.0]\n",
      " ['Spain' 38.77777777777778 52000.0]\n",
      " ['France' 48.0 79000.0]\n",
      " ['Germany' 50.0 83000.0]\n",
      " ['France' 37.0 67000.0]]\n"
     ]
    }
   ],
   "source": [
    "print(x)"
   ]
  },
  {
   "cell_type": "code",
   "execution_count": 7,
   "id": "24e84661-d3dc-49a7-9729-30f85ebca4c6",
   "metadata": {},
   "outputs": [],
   "source": [
    "# Encoading the In-dependent variable \n",
    "from sklearn.compose import ColumnTransformer\n",
    "from sklearn.preprocessing import OneHotEncoder\n",
    "ct = ColumnTransformer(transformers =[('encoder',OneHotEncoder(),[0])] ,remainder = 'passthrough')\n",
    "x =np.array(ct.fit_transform(x))"
   ]
  },
  {
   "cell_type": "code",
   "execution_count": 8,
   "id": "9c058080-a1a1-4a70-b6dd-05bbe87a3920",
   "metadata": {},
   "outputs": [
    {
     "name": "stdout",
     "output_type": "stream",
     "text": [
      "[[1.0 0.0 0.0 44.0 72000.0]\n",
      " [0.0 0.0 1.0 27.0 48000.0]\n",
      " [0.0 1.0 0.0 30.0 54000.0]\n",
      " [0.0 0.0 1.0 38.0 61000.0]\n",
      " [0.0 1.0 0.0 40.0 63777.77777777778]\n",
      " [1.0 0.0 0.0 35.0 58000.0]\n",
      " [0.0 0.0 1.0 38.77777777777778 52000.0]\n",
      " [1.0 0.0 0.0 48.0 79000.0]\n",
      " [0.0 1.0 0.0 50.0 83000.0]\n",
      " [1.0 0.0 0.0 37.0 67000.0]]\n"
     ]
    }
   ],
   "source": [
    "print(x)"
   ]
  },
  {
   "cell_type": "code",
   "execution_count": 9,
   "id": "f208d261-2541-443f-9240-70571bc121af",
   "metadata": {},
   "outputs": [],
   "source": [
    "# Encoading Dependent variable \n",
    "from sklearn.preprocessing import LabelEncoder\n",
    "le = LabelEncoder()\n",
    "y = le.fit_transform(y)"
   ]
  },
  {
   "cell_type": "code",
   "execution_count": 10,
   "id": "52ae304e-c8e3-49db-aac6-9bd0e9a3c226",
   "metadata": {},
   "outputs": [
    {
     "name": "stdout",
     "output_type": "stream",
     "text": [
      "[0 1 0 0 1 1 0 1 0 1]\n"
     ]
    }
   ],
   "source": [
    "print(y)"
   ]
  },
  {
   "cell_type": "code",
   "execution_count": 11,
   "id": "e515d496-1d1d-4a10-a18b-c26917c98854",
   "metadata": {},
   "outputs": [],
   "source": [
    "# Splliting the data into training and testing data \n",
    "from sklearn.model_selection import train_test_split\n",
    "x_train,x_test,y_train,y_test = train_test_split(x,y,test_size = 0.2,random_state = 0)"
   ]
  },
  {
   "cell_type": "code",
   "execution_count": 12,
   "id": "b3457c08-ad73-4b36-8298-65b161e0e939",
   "metadata": {},
   "outputs": [
    {
     "name": "stdout",
     "output_type": "stream",
     "text": [
      "[[0.0 1.0 0.0 40.0 63777.77777777778]\n",
      " [1.0 0.0 0.0 37.0 67000.0]\n",
      " [0.0 0.0 1.0 27.0 48000.0]\n",
      " [0.0 0.0 1.0 38.77777777777778 52000.0]\n",
      " [1.0 0.0 0.0 48.0 79000.0]\n",
      " [0.0 0.0 1.0 38.0 61000.0]\n",
      " [1.0 0.0 0.0 44.0 72000.0]\n",
      " [1.0 0.0 0.0 35.0 58000.0]]\n"
     ]
    }
   ],
   "source": [
    "print(x_train)"
   ]
  },
  {
   "cell_type": "code",
   "execution_count": 13,
   "id": "38d38900-7fcf-4026-8850-b26b809ce99c",
   "metadata": {},
   "outputs": [
    {
     "name": "stdout",
     "output_type": "stream",
     "text": [
      "[[0.0 1.0 0.0 30.0 54000.0]\n",
      " [0.0 1.0 0.0 50.0 83000.0]]\n"
     ]
    }
   ],
   "source": [
    "print(x_test)"
   ]
  },
  {
   "cell_type": "code",
   "execution_count": 14,
   "id": "3ca2a75a-693a-4b84-a699-1b87a2afd35e",
   "metadata": {},
   "outputs": [
    {
     "name": "stdout",
     "output_type": "stream",
     "text": [
      "[1 1 1 0 1 0 0 1]\n"
     ]
    }
   ],
   "source": [
    "print(y_train)"
   ]
  },
  {
   "cell_type": "code",
   "execution_count": 15,
   "id": "206ccd6a-1a39-45a2-a5eb-9249ba0772c9",
   "metadata": {},
   "outputs": [
    {
     "name": "stdout",
     "output_type": "stream",
     "text": [
      "[0 0]\n"
     ]
    }
   ],
   "source": [
    "print(y_test)"
   ]
  },
  {
   "cell_type": "code",
   "execution_count": 16,
   "id": "667a91dd-81ce-4633-8ef4-7d7af45577a9",
   "metadata": {},
   "outputs": [],
   "source": [
    "# Frature scalliing on only traing set of data\n",
    "from sklearn.preprocessing import StandardScaler\n",
    "sc = StandardScaler()\n",
    "x_train[:,3:]=sc.fit_transform(x_train[:,3:])\n",
    "x_test[:,3:] = sc.transform(x_test[:,3:])"
   ]
  },
  {
   "cell_type": "code",
   "execution_count": 17,
   "id": "8ec6721b-5907-4e79-a3ed-f29ac0d29068",
   "metadata": {},
   "outputs": [
    {
     "name": "stdout",
     "output_type": "stream",
     "text": [
      "[[0.0 1.0 0.0 0.2630675731713538 0.1238147854838185]\n",
      " [1.0 0.0 0.0 -0.25350147960148617 0.4617563176278856]\n",
      " [0.0 0.0 1.0 -1.9753983221776195 -1.5309334063940294]\n",
      " [0.0 0.0 1.0 0.05261351463427101 -1.1114197802841526]\n",
      " [1.0 0.0 0.0 1.6405850472322605 1.7202971959575162]\n",
      " [0.0 0.0 1.0 -0.08131179534387283 -0.16751412153692966]\n",
      " [1.0 0.0 0.0 0.9518263102018072 0.9861483502652316]\n",
      " [1.0 0.0 0.0 -0.5978808481167128 -0.48214934111933727]]\n"
     ]
    }
   ],
   "source": [
    "print(x_train)"
   ]
  },
  {
   "cell_type": "code",
   "execution_count": 18,
   "id": "397eca73-0d1e-45eb-ac63-57892b987707",
   "metadata": {},
   "outputs": [
    {
     "name": "stdout",
     "output_type": "stream",
     "text": [
      "[[0.0 1.0 0.0 -1.4588292694047795 -0.9016629672292141]\n",
      " [0.0 1.0 0.0 1.984964415747487 2.139810822067393]]\n"
     ]
    }
   ],
   "source": [
    "print(x_test)"
   ]
  },
  {
   "cell_type": "code",
   "execution_count": null,
   "id": "5e772c1d-1ff5-43fd-b069-f70bf1f709e0",
   "metadata": {},
   "outputs": [],
   "source": []
  }
 ],
 "metadata": {
  "kernelspec": {
   "display_name": "Python 3 (ipykernel)",
   "language": "python",
   "name": "python3"
  },
  "language_info": {
   "codemirror_mode": {
    "name": "ipython",
    "version": 3
   },
   "file_extension": ".py",
   "mimetype": "text/x-python",
   "name": "python",
   "nbconvert_exporter": "python",
   "pygments_lexer": "ipython3",
   "version": "3.13.0"
  }
 },
 "nbformat": 4,
 "nbformat_minor": 5
}
